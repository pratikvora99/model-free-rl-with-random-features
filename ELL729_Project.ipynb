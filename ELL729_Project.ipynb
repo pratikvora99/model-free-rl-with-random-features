{
  "nbformat": 4,
  "nbformat_minor": 0,
  "metadata": {
    "colab": {
      "provenance": []
    },
    "kernelspec": {
      "name": "python3",
      "display_name": "Python 3"
    },
    "language_info": {
      "name": "python"
    },
    "gpuClass": "standard"
  },
  "cells": [
    {
      "cell_type": "markdown",
      "source": [
        "# Installing Libraries and dependencies"
      ],
      "metadata": {
        "id": "GyzHuRiqquG7"
      }
    },
    {
      "cell_type": "code",
      "source": [
        "import os\n",
        "if not os.path.exists('.mujoco_setup_complete'):\n",
        "  # Get the prereqs\n",
        "  !apt-get -qq update\n",
        "  !apt-get -qq install -y libosmesa6-dev libgl1-mesa-glx libglfw3 libgl1-mesa-dev libglew-dev patchelf\n",
        "  # Get Mujoco\n",
        "  !mkdir ~/.mujoco\n",
        "  !wget -q https://mujoco.org/download/mujoco210-linux-x86_64.tar.gz -O mujoco.tar.gz\n",
        "  !tar -zxf mujoco.tar.gz -C \"$HOME/.mujoco\"\n",
        "  !rm mujoco.tar.gz\n",
        "  # Add it to the actively loaded path and the bashrc path (these only do so much)\n",
        "  !echo 'export LD_LIBRARY_PATH=$LD_LIBRARY_PATH:$HOME/.mujoco/mujoco210/bin' >> ~/.bashrc\n",
        "  !echo 'export LD_PRELOAD=$LD_PRELOAD:/usr/lib/x86_64-linux-gnu/libGLEW.so' >> ~/.bashrc\n",
        "  !echo \"/root/.mujoco/mujoco210/bin\" > /etc/ld.so.conf.d/mujoco_ld_lib_path.conf\n",
        "  !ldconfig\n",
        "  # Install Mujoco-py\n",
        "  !pip3 install -U 'mujoco-py<2.2,>=2.1'\n",
        "  # run once\n",
        "  !touch .mujoco_setup_complete\n",
        "  !pip install mujoco\n",
        "\n",
        "try:\n",
        "  if _mujoco_run_once:\n",
        "    pass\n",
        "except NameError:\n",
        "  _mujoco_run_once = False\n",
        "if not _mujoco_run_once:\n",
        "  # Add it to the actively loaded path and the bashrc path (these only do so much)\n",
        "  try:\n",
        "    os.environ['LD_LIBRARY_PATH']=os.environ['LD_LIBRARY_PATH'] + ':/root/.mujoco/mujoco210/bin'\n",
        "  except KeyError:\n",
        "    os.environ['LD_LIBRARY_PATH']='/root/.mujoco/mujoco210/bin'\n",
        "  try:\n",
        "    os.environ['LD_PRELOAD']=os.environ['LD_PRELOAD'] + ':/usr/lib/x86_64-linux-gnu/libGLEW.so'\n",
        "  except KeyError:\n",
        "    os.environ['LD_PRELOAD']='/usr/lib/x86_64-linux-gnu/libGLEW.so'\n",
        "  # presetup so we don't see output on first env initialization\n",
        "  import mujoco_py\n",
        "  _mujoco_run_once = True"
      ],
      "metadata": {
        "id": "uX9jSWV0m0eB"
      },
      "execution_count": null,
      "outputs": []
    },
    {
      "cell_type": "code",
      "source": [
        "### Installations for media_py at colab\n",
        "\n",
        "!apt-get install x11-utils > /dev/null 2>&1\n",
        "!pip install pyglet > /dev/null 2>&1\n",
        "!apt-get install -y xvfb python-opengl > /dev/null 2>&1\n",
        "!pip install gym pyvirtualdisplay > /dev/null 2>&1\n",
        "\n",
        "!command -v ffmpeg >/dev/null || (apt update && apt install -y ffmpeg)\n",
        "!pip install -q mediapy"
      ],
      "metadata": {
        "colab": {
          "base_uri": "https://localhost:8080/"
        },
        "id": "E-c2LAjDgzhB",
        "outputId": "6293761d-82bb-4f47-b8ca-881e0dceb991"
      },
      "execution_count": null,
      "outputs": [
        {
          "output_type": "stream",
          "name": "stdout",
          "text": [
            "\u001b[?25l     \u001b[90m━━━━━━━━━━━━━━━━━━━━━━━━━━━━━━━━━━━━━━━━\u001b[0m \u001b[32m0.0/1.6 MB\u001b[0m \u001b[31m?\u001b[0m eta \u001b[36m-:--:--\u001b[0m\r\u001b[2K     \u001b[91m━━━━━━━━━━━━━━━━━━━━━━━━━━━━━━━━━━━━━━━\u001b[0m\u001b[91m╸\u001b[0m \u001b[32m1.6/1.6 MB\u001b[0m \u001b[31m78.9 MB/s\u001b[0m eta \u001b[36m0:00:01\u001b[0m\r\u001b[2K     \u001b[90m━━━━━━━━━━━━━━━━━━━━━━━━━━━━━━━━━━━━━━━━\u001b[0m \u001b[32m1.6/1.6 MB\u001b[0m \u001b[31m44.0 MB/s\u001b[0m eta \u001b[36m0:00:00\u001b[0m\n",
            "\u001b[?25h"
          ]
        }
      ]
    },
    {
      "cell_type": "code",
      "source": [
        "import gym\n",
        "import numpy as np\n",
        "from sklearn.neural_network import MLPRegressor\n",
        "import matplotlib.pyplot as plt\n",
        "import pickle\n",
        "from sklearn.linear_model import SGDRegressor\n",
        "import matplotlib.pyplot as plt\n",
        "from IPython import display as ipythondisplay\n",
        "from pyvirtualdisplay import Display\n",
        "import time\n",
        "import mediapy as media\n",
        "import cv2"
      ],
      "metadata": {
        "id": "yB6tVQBVf-op"
      },
      "execution_count": null,
      "outputs": []
    },
    {
      "cell_type": "markdown",
      "source": [
        "#Creating dataset using OpenAI Gym"
      ],
      "metadata": {
        "id": "OALuN6Thg1GO"
      }
    },
    {
      "cell_type": "code",
      "source": [
        "!cp '/content/drive/MyDrive/Sem 2/ell729/hopper-medium-expert-v2.pkl' ."
      ],
      "metadata": {
        "id": "gTn615Hd13oI"
      },
      "execution_count": null,
      "outputs": []
    },
    {
      "cell_type": "code",
      "source": [
        "# Define environment\n",
        "env = gym.make('Hopper-v2')\n",
        "paths = pickle.load(open('hopper-medium-expert-v2.pkl', 'rb'))"
      ],
      "metadata": {
        "id": "6oqfAG3bCmlr"
      },
      "execution_count": null,
      "outputs": []
    },
    {
      "cell_type": "code",
      "source": [
        "# Generate trajectories\n",
        "H = 200\n",
        "WINDOW = 10\n",
        "\n",
        "dataset = []\n",
        "for p in paths:\n",
        "  path_length = len(p['rewards'])\n",
        "  if path_length < H:\n",
        "    p['observations'] = np.append(p['observations'], [p['next_observations'][-1] for _ in range(H-path_length)], axis=0)\n",
        "    p['next_observations'] = np.append(p['next_observations'], [p['next_observations'][-1] for _ in range(H-path_length)], axis=0)\n",
        "    p['rewards'] = np.append(p['rewards'], [0 for _ in range(H-path_length)])\n",
        "    p['actions'] = np.append(p['actions'], [np.zeros(env.action_space.shape[0]) for _ in range(H-path_length)], axis=0)\n",
        "    dataset.append(p)\n",
        "    continue\n",
        "\n",
        "  i = H\n",
        "  while i <= path_length:\n",
        "    t = {}\n",
        "    t['observations'] = p['observations'][i-H:i]\n",
        "    t['next_observations'] = p['next_observations'][i-H:i]\n",
        "    t['rewards'] = p['rewards'][i-H:i]\n",
        "    t['actions'] = p['actions'][i-H:i]\n",
        "    dataset.append(t)\n",
        "    i += WINDOW"
      ],
      "metadata": {
        "id": "IgQfbfo02Lua"
      },
      "execution_count": null,
      "outputs": []
    },
    {
      "cell_type": "code",
      "source": [
        "print('Number of trajectories: {}'.format(len(dataset)))"
      ],
      "metadata": {
        "id": "awwKfEhOd52J",
        "colab": {
          "base_uri": "https://localhost:8080/"
        },
        "outputId": "1649d3f8-e1da-4a0f-fce2-1e5d792ed56b"
      },
      "execution_count": null,
      "outputs": [
        {
          "output_type": "stream",
          "name": "stdout",
          "text": [
            "Number of trajectories: 138000\n"
          ]
        }
      ]
    },
    {
      "cell_type": "markdown",
      "source": [
        "#Offline Training"
      ],
      "metadata": {
        "id": "O6ugB-GwgBgY"
      }
    },
    {
      "cell_type": "code",
      "source": [
        "# Define environment\n",
        "env = gym.make('Hopper-v2')\n",
        "\n",
        "D = env.observation_space.shape[0] + env.action_space.shape[0]\n",
        "\n",
        "# Define hyperparameters\n",
        "K = 256\n",
        "gamma = 0.99\n",
        "\n",
        "np.random.seed(42)\n",
        "theta = np.random.multivariate_normal(np.zeros(D), np.eye(D), size=K)\n",
        "\n",
        "def phi_fn(s, a, theta):\n",
        "    sa = np.append(s,a,axis=1)\n",
        "    return np.tanh(theta @ sa.T)"
      ],
      "metadata": {
        "id": "9M5ynQZExAhz"
      },
      "execution_count": null,
      "outputs": []
    },
    {
      "cell_type": "code",
      "source": [
        "### Creating dataset_phi for offline training\n",
        "\n",
        "dataset_phi_x = []\n",
        "dataset_phi_y = []\n",
        "gamma_vector = [gamma**h for h in range(H)]\n",
        "\n",
        "for d in dataset:\n",
        "  observations = d['observations']\n",
        "  start_state = observations[0]\n",
        "  actions = d['actions']\n",
        "\n",
        "  x = np.concatenate([start_state, actions.reshape(-1)])\n",
        "  dataset_phi_x.append(x)\n",
        "\n",
        "  y_vector = np.sum(gamma_vector * phi_fn(observations, actions, theta), axis=1)\n",
        "  dataset_phi_y.append(y_vector)"
      ],
      "metadata": {
        "id": "VxNkzpc28wvw"
      },
      "execution_count": null,
      "outputs": []
    },
    {
      "cell_type": "code",
      "source": [
        "psi = MLPRegressor(hidden_layer_sizes=K, activation='tanh', max_iter=100).fit(dataset_phi_x, dataset_phi_y)"
      ],
      "metadata": {
        "id": "UfV_nvtbFp7Z"
      },
      "execution_count": null,
      "outputs": []
    },
    {
      "cell_type": "code",
      "source": [
        "pickle.dump(psi, open('psi_function_tanh_200_100epoch.sav', 'wb'))"
      ],
      "metadata": {
        "id": "JtlGYwElrTbH"
      },
      "execution_count": null,
      "outputs": []
    },
    {
      "cell_type": "code",
      "source": [
        "plt.plot(range(len(psi.loss_curve_)), psi.loss_curve_)\n",
        "plt.xlabel('iterations')\n",
        "plt.ylabel('loss')\n",
        "plt.title('Loss function over training iterations')\n",
        "plt.show()"
      ],
      "metadata": {
        "colab": {
          "base_uri": "https://localhost:8080/",
          "height": 448
        },
        "id": "0dMMvEudqkG1",
        "outputId": "d8957d5e-7c28-4e61-e9e9-ff4d82c2af2a"
      },
      "execution_count": null,
      "outputs": [
        {
          "output_type": "display_data",
          "data": {
            "text/plain": [
              "<Figure size 640x480 with 1 Axes>"
            ],
            "image/png": "[encoded data removed]"
          },
          "metadata": {}
        }
      ]
    },
    {
      "cell_type": "markdown",
      "source": [
        "# Online Planning"
      ],
      "metadata": {
        "id": "PitNZEEbqllL"
      }
    },
    {
      "cell_type": "code",
      "source": [
        "reward = SGDRegressor(alpha=0.01, fit_intercept=False) ### alpha: regularization"
      ],
      "metadata": {
        "id": "mSLtlU7IMen-"
      },
      "execution_count": null,
      "outputs": []
    },
    {
      "cell_type": "code",
      "source": [
        "batch_size = 1024\n",
        "epochs = 100\n",
        "\n",
        "for epoch in range(epochs):\n",
        "  i = 0\n",
        "  while i<len(dataset):\n",
        "    dataset_w_x = []\n",
        "    dataset_w_y = []\n",
        "    j = 0\n",
        "    while j<batch_size and (i+j)<len(dataset):\n",
        "      d = dataset[i+j]\n",
        "      observations = d['observations']\n",
        "      actions = d['actions']\n",
        "      sa = np.append(observations, actions, axis=1)\n",
        "      x = np.tanh(sa @ theta.T)\n",
        "      dataset_w_x.append(x)\n",
        "      dataset_w_y.append(d['rewards'])\n",
        "      j+=1\n",
        "\n",
        "    i += j\n",
        "    dataset_w_x = np.array(dataset_w_x).reshape(len(dataset_w_x)*H, K)\n",
        "    dataset_w_y = np.array(dataset_w_y).reshape(-1)\n",
        "\n",
        "    reward.partial_fit(dataset_w_x, dataset_w_y)"
      ],
      "metadata": {
        "id": "TjOylmEZqlSb"
      },
      "execution_count": null,
      "outputs": []
    },
    {
      "cell_type": "code",
      "source": [
        "pickle.dump(reward, open('reward.sav', 'wb'))"
      ],
      "metadata": {
        "id": "lPACZpw93EPB"
      },
      "execution_count": null,
      "outputs": []
    },
    {
      "cell_type": "markdown",
      "source": [
        "# Policy prediction"
      ],
      "metadata": {
        "id": "YLmMu-JZ-iZg"
      }
    },
    {
      "cell_type": "code",
      "source": [
        "def policy(state, env, psi, reward_regressor):\n",
        "  N = 1000\n",
        "  H_test = 10\n",
        "\n",
        "  potential_actions = []\n",
        "  state_representations = []\n",
        "\n",
        "  for n in range(N):\n",
        "    actions = []\n",
        "    for h in range(H_test):\n",
        "      action = env.action_space.sample()\n",
        "      actions.append(action)\n",
        "    potential_actions.append(actions[0])\n",
        "    actions = np.array(actions).reshape(-1)\n",
        "    state_representation = np.concatenate([state, actions])\n",
        "    state_representations.append(state_representation)\n",
        "\n",
        "  state_representations = np.array(state_representations)\n",
        "  predicted_rewards = reward_regressor.predict(psi.predict(state_representations))\n",
        "  best_n = np.argmax(predicted_rewards)\n",
        "  return potential_actions[best_n]"
      ],
      "metadata": {
        "id": "0JB-Ig8b-oX7"
      },
      "execution_count": null,
      "outputs": []
    },
    {
      "cell_type": "code",
      "source": [
        "### Random Trajectory\n",
        "\n",
        "# Define random policy\n",
        "def random_policy(observation):\n",
        "    return env.action_space.sample()\n",
        "\n",
        "# L = Number of trajectories\n",
        "L = 100\n",
        "\n",
        "random_rewards = []\n",
        "random_trajectories = []\n",
        "for l in range(L):\n",
        "  obs = env.reset(seed=l)\n",
        "  random_trajectory = []\n",
        "  total_reward_random = 0\n",
        "  while True:\n",
        "    action = random_policy(obs)\n",
        "    obs_next, reward, done, info = env.step(action)\n",
        "    random_trajectory.append((obs, action, reward, obs_next))\n",
        "    total_reward_random += reward\n",
        "    if done:\n",
        "      break\n",
        "    obs = obs_next\n",
        "  random_rewards.append(total_reward_random)\n",
        "  random_trajectories.append(random_trajectory)"
      ],
      "metadata": {
        "id": "XBGMHR3Fyqz1"
      },
      "execution_count": null,
      "outputs": []
    },
    {
      "cell_type": "code",
      "source": [
        "### Policy Oriented Trajectory\n",
        "\n",
        "psi = pickle.load(open('psi_function_tanh_200_100epoch.sav', 'rb'))\n",
        "reward_fn = pickle.load(open('reward.sav', 'rb'))\n",
        "\n",
        "rewards = []\n",
        "trajectories = []\n",
        "all_frames = []\n",
        "for l in range(L):\n",
        "  obs = env.reset(seed=l)\n",
        "  trajectory = []\n",
        "  total_reward = 0\n",
        "  prev_screen = env.render(mode='rgb_array')\n",
        "  frames = [prev_screen]\n",
        "\n",
        "  while True:\n",
        "    action = policy(obs, env, psi, reward_fn)\n",
        "    obs_next, reward, done, info = env.step(action)\n",
        "    total_reward += reward\n",
        "    trajectory.append((obs, action, reward, obs_next))\n",
        "    screen = env.render(mode='rgb_array')\n",
        "    frames.append(screen)\n",
        "    if done:\n",
        "      break\n",
        "    obs = obs_next\n",
        "\n",
        "  trajectories.append(trajectory)\n",
        "  rewards.append(total_reward)\n",
        "  all_frames.append(frames)"
      ],
      "metadata": {
        "id": "D-T4tt5EEYDJ"
      },
      "execution_count": null,
      "outputs": []
    },
    {
      "cell_type": "code",
      "source": [
        "trained_rewards = [reward for _,_,reward,_ in trajectories[0]]\n",
        "random_rewards = [reward for _,_,reward,_ in random_trajectories[0]]"
      ],
      "metadata": {
        "id": "Dk-5-FzbIwHc",
        "colab": {
          "base_uri": "https://localhost:8080/"
        },
        "outputId": "2c1e034f-f8fe-491e-be23-55fc781079ce"
      },
      "execution_count": null,
      "outputs": [
        {
          "output_type": "stream",
          "name": "stderr",
          "text": [
            "/usr/local/lib/python3.10/dist-packages/ipykernel/ipkernel.py:283: DeprecationWarning: `should_run_async` will not call `transform_cell` automatically in the future. Please pass the result to `transformed_cell` argument and any exception that happen during thetransform in `preprocessing_exc_tuple` in IPython 7.17 and above.\n",
            "  and should_run_async(code)\n"
          ]
        }
      ]
    },
    {
      "cell_type": "code",
      "source": [
        "plt.plot(range(len(trained_rewards)), trained_rewards, label='Trained Rewards', color='green')\n",
        "plt.plot(range(len(random_rewards)), random_rewards, label='Random Rewards', color='red')\n",
        "plt.xlabel('Steps')\n",
        "plt.ylabel('Rewards')\n",
        "plt.title('Rewards achieved over timesteps')\n",
        "plt.legend()\n",
        "plt.show()"
      ],
      "metadata": {
        "colab": {
          "base_uri": "https://localhost:8080/",
          "height": 471
        },
        "id": "FHSr6-AKJAqr",
        "outputId": "59ac7daa-b146-4f0b-e37f-cd5332f99f82"
      },
      "execution_count": null,
      "outputs": [
        {
          "output_type": "display_data",
          "data": {
            "text/plain": [
              "<Figure size 640x480 with 1 Axes>"
            ],
            "image/png": "[encoded data removed]"
          },
          "metadata": {}
        }
      ]
    },
    {
      "cell_type": "markdown",
      "source": [
        "#Rendering"
      ],
      "metadata": {
        "id": "x06Wx1fMRAbB"
      }
    },
    {
      "cell_type": "code",
      "source": [
        "framerate = 30"
      ],
      "metadata": {
        "colab": {
          "base_uri": "https://localhost:8080/"
        },
        "id": "YSz5KdEkRIGv",
        "outputId": "cf7557d1-c7a8-4c3a-c5c8-404bcfecbe63"
      },
      "execution_count": null,
      "outputs": [
        {
          "output_type": "execute_result",
          "data": {
            "text/plain": [
              "<pyvirtualdisplay.display.Display at 0x7f7dcf371070>"
            ]
          },
          "metadata": {},
          "execution_count": 66
        }
      ]
    },
    {
      "cell_type": "code",
      "source": [
        "### Saving the video of the simulation\n",
        "out = cv2.VideoWriter('simulation.avi',cv2.VideoWriter_fourcc(*'DIVX'), 30, (480,480))\n",
        "for frame in frames:\n",
        "    out.write(cv2.cvtColor(frame, cv2.COLOR_RGB2BGR))"
      ],
      "metadata": {
        "id": "K8Rfktlk3IZS"
      },
      "execution_count": null,
      "outputs": []
    },
    {
      "cell_type": "code",
      "source": [
        "### Rendering the video\n",
        "display = Display(visible=0, size=(400, 300))\n",
        "display.start()\n",
        "\n",
        "media.show_video(frames, fps=framerate)"
      ],
      "metadata": {
        "id": "boNaEQqARTOI"
      },
      "execution_count": null,
      "outputs": []
    },
    {
      "cell_type": "code",
      "source": [],
      "metadata": {
        "id": "P6eb4AYxjonJ"
      },
      "execution_count": null,
      "outputs": []
    }
  ]
}